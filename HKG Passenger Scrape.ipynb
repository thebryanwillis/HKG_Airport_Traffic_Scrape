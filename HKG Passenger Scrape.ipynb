{
 "cells": [
  {
   "cell_type": "code",
   "execution_count": 28,
   "metadata": {},
   "outputs": [],
   "source": [
    "import PyPDF2\n",
    "import pandas as pd\n",
    "import glob\n",
    "import os"
   ]
  },
  {
   "cell_type": "code",
   "execution_count": 57,
   "metadata": {},
   "outputs": [],
   "source": [
    "dir_path =  r'C:\\Users\\bryan\\Desktop\\Projects'"
   ]
  },
  {
   "cell_type": "code",
   "execution_count": 133,
   "metadata": {},
   "outputs": [],
   "source": [
    "files_19 = glob.glob(dir_path + \"\\\\*2019e.pdf\")"
   ]
  },
  {
   "cell_type": "code",
   "execution_count": 134,
   "metadata": {},
   "outputs": [
    {
     "data": {
      "text/plain": [
       "['C:\\\\Users\\\\bryan\\\\Desktop\\\\Projects\\\\Apr2019e.pdf',\n",
       " 'C:\\\\Users\\\\bryan\\\\Desktop\\\\Projects\\\\Aug2019e.pdf',\n",
       " 'C:\\\\Users\\\\bryan\\\\Desktop\\\\Projects\\\\Dec2019e.pdf',\n",
       " 'C:\\\\Users\\\\bryan\\\\Desktop\\\\Projects\\\\Feb2019e.pdf',\n",
       " 'C:\\\\Users\\\\bryan\\\\Desktop\\\\Projects\\\\Jan2019e.pdf',\n",
       " 'C:\\\\Users\\\\bryan\\\\Desktop\\\\Projects\\\\Jul2019e.pdf',\n",
       " 'C:\\\\Users\\\\bryan\\\\Desktop\\\\Projects\\\\Jun2019e.pdf',\n",
       " 'C:\\\\Users\\\\bryan\\\\Desktop\\\\Projects\\\\Mar2019e.pdf',\n",
       " 'C:\\\\Users\\\\bryan\\\\Desktop\\\\Projects\\\\May2019e.pdf',\n",
       " 'C:\\\\Users\\\\bryan\\\\Desktop\\\\Projects\\\\Nov2019e.pdf',\n",
       " 'C:\\\\Users\\\\bryan\\\\Desktop\\\\Projects\\\\Oct2019e.pdf',\n",
       " 'C:\\\\Users\\\\bryan\\\\Desktop\\\\Projects\\\\Sept2019e.pdf']"
      ]
     },
     "execution_count": 134,
     "metadata": {},
     "output_type": "execute_result"
    }
   ],
   "source": [
    "files_19"
   ]
  },
  {
   "cell_type": "code",
   "execution_count": 135,
   "metadata": {},
   "outputs": [],
   "source": [
    "pdf_lines = []  # List to store the lines of text\n",
    "\n",
    "for pdf_file in pdf_files:\n",
    "    pdf = open(pdf_file, \"rb\")\n",
    "    pdf_reader = PyPDF2.PdfReader(pdf)\n",
    "    num_pages = len(pdf_reader.pages)\n",
    "\n",
    "    for page_num in range(num_pages):\n",
    "        page = pdf_reader.pages[page_num]\n",
    "        text = page.extract_text()\n",
    "        lines = text.split(\"\\n\")  # Split the text by line breaks\n",
    "\n",
    "        pdf_lines.extend(lines)  # Add the lines to the list\n",
    "        \n",
    "    pdf.close()\n",
    "\n",
    "# Create a DataFrame from the lines of text\n",
    "df_19 = pd.DataFrame({\"Text\": pdf_lines})\n"
   ]
  },
  {
   "cell_type": "code",
   "execution_count": 136,
   "metadata": {},
   "outputs": [
    {
     "data": {
      "text/html": [
       "<div>\n",
       "<style scoped>\n",
       "    .dataframe tbody tr th:only-of-type {\n",
       "        vertical-align: middle;\n",
       "    }\n",
       "\n",
       "    .dataframe tbody tr th {\n",
       "        vertical-align: top;\n",
       "    }\n",
       "\n",
       "    .dataframe thead th {\n",
       "        text-align: right;\n",
       "    }\n",
       "</style>\n",
       "<table border=\"1\" class=\"dataframe\">\n",
       "  <thead>\n",
       "    <tr style=\"text-align: right;\">\n",
       "      <th></th>\n",
       "      <th>Text</th>\n",
       "    </tr>\n",
       "  </thead>\n",
       "  <tbody>\n",
       "    <tr>\n",
       "      <th>0</th>\n",
       "      <td>Provisional Civil International</td>\n",
       "    </tr>\n",
       "    <tr>\n",
       "      <th>1</th>\n",
       "      <td>Air Traffic Statistics at HKIA</td>\n",
       "    </tr>\n",
       "    <tr>\n",
       "      <th>2</th>\n",
       "      <td>April 2019</td>\n",
       "    </tr>\n",
       "    <tr>\n",
       "      <th>3</th>\n",
       "      <td>Since Past 12</td>\n",
       "    </tr>\n",
       "    <tr>\n",
       "      <th>4</th>\n",
       "      <td>Apr-18 Apr-19(2)+/- %(1)Apr-18(2)+/- %(1)month...</td>\n",
       "    </tr>\n",
       "    <tr>\n",
       "      <th>5</th>\n",
       "      <td>1.Passengers(3)</td>\n",
       "    </tr>\n",
       "    <tr>\n",
       "      <th>6</th>\n",
       "      <td>Total 6,301,000     6,492,000     3.0% 6,492,0...</td>\n",
       "    </tr>\n",
       "    <tr>\n",
       "      <th>7</th>\n",
       "      <td>2.Cargo Handled (Tonnes)(4)</td>\n",
       "    </tr>\n",
       "    <tr>\n",
       "      <th>8</th>\n",
       "      <td>(a) Unloaded 148,000        133,000        -10...</td>\n",
       "    </tr>\n",
       "    <tr>\n",
       "      <th>9</th>\n",
       "      <td>(b) Loaded 280,000        261,000        -6.8%...</td>\n",
       "    </tr>\n",
       "    <tr>\n",
       "      <th>10</th>\n",
       "      <td>(c) Total 428,000        394,000        -8.1% ...</td>\n",
       "    </tr>\n",
       "    <tr>\n",
       "      <th>11</th>\n",
       "      <td>3.Flight Movements(5)</td>\n",
       "    </tr>\n",
       "    <tr>\n",
       "      <th>12</th>\n",
       "      <td>(a) Passenger 29,843           30,085         ...</td>\n",
       "    </tr>\n",
       "    <tr>\n",
       "      <th>13</th>\n",
       "      <td>(b) Cargo 4,780             4,760             ...</td>\n",
       "    </tr>\n",
       "    <tr>\n",
       "      <th>14</th>\n",
       "      <td>(c) Non-revenue 754                810        ...</td>\n",
       "    </tr>\n",
       "  </tbody>\n",
       "</table>\n",
       "</div>"
      ],
      "text/plain": [
       "                                                 Text\n",
       "0                     Provisional Civil International\n",
       "1                      Air Traffic Statistics at HKIA\n",
       "2                                          April 2019\n",
       "3                                       Since Past 12\n",
       "4   Apr-18 Apr-19(2)+/- %(1)Apr-18(2)+/- %(1)month...\n",
       "5                                     1.Passengers(3)\n",
       "6   Total 6,301,000     6,492,000     3.0% 6,492,0...\n",
       "7                         2.Cargo Handled (Tonnes)(4)\n",
       "8   (a) Unloaded 148,000        133,000        -10...\n",
       "9   (b) Loaded 280,000        261,000        -6.8%...\n",
       "10  (c) Total 428,000        394,000        -8.1% ...\n",
       "11                              3.Flight Movements(5)\n",
       "12  (a) Passenger 29,843           30,085         ...\n",
       "13  (b) Cargo 4,780             4,760             ...\n",
       "14  (c) Non-revenue 754                810        ..."
      ]
     },
     "execution_count": 136,
     "metadata": {},
     "output_type": "execute_result"
    }
   ],
   "source": [
    "df_19.head(15)"
   ]
  },
  {
   "cell_type": "code",
   "execution_count": 137,
   "metadata": {},
   "outputs": [],
   "source": [
    "months_19 = df_19.iloc[2::24]\n",
    "months_19 = months_19.dropna()\n",
    "months_19 = months_19.reset_index(drop=True)"
   ]
  },
  {
   "cell_type": "code",
   "execution_count": 138,
   "metadata": {},
   "outputs": [
    {
     "name": "stderr",
     "output_type": "stream",
     "text": [
      "C:\\Program Files\\ArcGIS\\Pro\\bin\\Python\\envs\\arcgispro-py3\\lib\\site-packages\\ipykernel_launcher.py:2: SettingWithCopyWarning: \n",
      "A value is trying to be set on a copy of a slice from a DataFrame.\n",
      "Try using .loc[row_indexer,col_indexer] = value instead\n",
      "\n",
      "See the caveats in the documentation: https://pandas.pydata.org/pandas-docs/stable/user_guide/indexing.html#returning-a-view-versus-a-copy\n",
      "  \n"
     ]
    }
   ],
   "source": [
    "px_19 = df_19.iloc[6::24]\n",
    "px_19['Passengers'] = px_19['Text'].str.split().str[2]\n",
    "px_19 = px_19.drop('Text', axis=1)\n",
    "px_19 = px_19.dropna()\n",
    "px_19 = px_19.reset_index(drop=True)\n"
   ]
  },
  {
   "cell_type": "code",
   "execution_count": 140,
   "metadata": {},
   "outputs": [
    {
     "data": {
      "text/html": [
       "<div>\n",
       "<style scoped>\n",
       "    .dataframe tbody tr th:only-of-type {\n",
       "        vertical-align: middle;\n",
       "    }\n",
       "\n",
       "    .dataframe tbody tr th {\n",
       "        vertical-align: top;\n",
       "    }\n",
       "\n",
       "    .dataframe thead th {\n",
       "        text-align: right;\n",
       "    }\n",
       "</style>\n",
       "<table border=\"1\" class=\"dataframe\">\n",
       "  <thead>\n",
       "    <tr style=\"text-align: right;\">\n",
       "      <th></th>\n",
       "      <th>month</th>\n",
       "      <th>passengers</th>\n",
       "    </tr>\n",
       "  </thead>\n",
       "  <tbody>\n",
       "    <tr>\n",
       "      <th>0</th>\n",
       "      <td>April 2019</td>\n",
       "      <td>6,492,000</td>\n",
       "    </tr>\n",
       "    <tr>\n",
       "      <th>1</th>\n",
       "      <td>August 2019</td>\n",
       "      <td>5,996,000</td>\n",
       "    </tr>\n",
       "    <tr>\n",
       "      <th>2</th>\n",
       "      <td>December 2019</td>\n",
       "      <td>5,715,000</td>\n",
       "    </tr>\n",
       "    <tr>\n",
       "      <th>3</th>\n",
       "      <td>February 2019</td>\n",
       "      <td>5,885,000</td>\n",
       "    </tr>\n",
       "    <tr>\n",
       "      <th>4</th>\n",
       "      <td>January 2019</td>\n",
       "      <td>6,496,000</td>\n",
       "    </tr>\n",
       "    <tr>\n",
       "      <th>5</th>\n",
       "      <td>July 2019</td>\n",
       "      <td>6,730,000</td>\n",
       "    </tr>\n",
       "    <tr>\n",
       "      <th>6</th>\n",
       "      <td>June 2019</td>\n",
       "      <td>6,341,000</td>\n",
       "    </tr>\n",
       "    <tr>\n",
       "      <th>7</th>\n",
       "      <td>March 2019</td>\n",
       "      <td>6,419,000</td>\n",
       "    </tr>\n",
       "    <tr>\n",
       "      <th>8</th>\n",
       "      <td>May 2019</td>\n",
       "      <td>6,234,000</td>\n",
       "    </tr>\n",
       "    <tr>\n",
       "      <th>9</th>\n",
       "      <td>November 2019</td>\n",
       "      <td>5,026,000</td>\n",
       "    </tr>\n",
       "    <tr>\n",
       "      <th>10</th>\n",
       "      <td>October 2019</td>\n",
       "      <td>5,374,000</td>\n",
       "    </tr>\n",
       "    <tr>\n",
       "      <th>11</th>\n",
       "      <td>September 2019</td>\n",
       "      <td>4,856,000</td>\n",
       "    </tr>\n",
       "  </tbody>\n",
       "</table>\n",
       "</div>"
      ],
      "text/plain": [
       "             month passengers\n",
       "0       April 2019  6,492,000\n",
       "1      August 2019  5,996,000\n",
       "2    December 2019  5,715,000\n",
       "3    February 2019  5,885,000\n",
       "4     January 2019  6,496,000\n",
       "5        July 2019  6,730,000\n",
       "6        June 2019  6,341,000\n",
       "7       March 2019  6,419,000\n",
       "8         May 2019  6,234,000\n",
       "9    November 2019  5,026,000\n",
       "10    October 2019  5,374,000\n",
       "11  September 2019  4,856,000"
      ]
     },
     "execution_count": 140,
     "metadata": {},
     "output_type": "execute_result"
    }
   ],
   "source": [
    "combined_df = pd.concat([months_19, px_19], axis=1)\n",
    "\n",
    "# Rename the columns\n",
    "combined_df.columns = ['month', 'passengers']\n",
    "\n",
    "combined_df.head(15)"
   ]
  }
 ],
 "metadata": {
  "kernelspec": {
   "display_name": "Python 3",
   "language": "python",
   "name": "python3"
  },
  "language_info": {
   "codemirror_mode": {
    "name": "ipython",
    "version": 3
   },
   "file_extension": ".py",
   "mimetype": "text/x-python",
   "name": "python",
   "nbconvert_exporter": "python",
   "pygments_lexer": "ipython3",
   "version": "3.7.9"
  }
 },
 "nbformat": 4,
 "nbformat_minor": 4
}
